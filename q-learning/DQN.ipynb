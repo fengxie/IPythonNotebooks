{
 "cells": [
  {
   "cell_type": "code",
   "execution_count": 44,
   "metadata": {
    "collapsed": true
   },
   "outputs": [],
   "source": [
    "import gym\n",
    "import numpy as np\n",
    "import random\n",
    "import tensorflow as tf\n",
    "import matplotlib.pyplot as plt\n",
    "%matplotlib inline"
   ]
  },
  {
   "cell_type": "code",
   "execution_count": 45,
   "metadata": {},
   "outputs": [
    {
     "name": "stderr",
     "output_type": "stream",
     "text": [
      "[2017-04-30 20:28:03,605] Making new env: FrozenLake-v0\n"
     ]
    },
    {
     "name": "stdout",
     "output_type": "stream",
     "text": [
      "\n",
      "\u001b[41mS\u001b[0mFFF\n",
      "FHFH\n",
      "FFFH\n",
      "HFFG\n",
      "(4, 0.0, False, {'prob': 0.3333333333333333})\n",
      "  (Down)\n",
      "SFFF\n",
      "\u001b[41mF\u001b[0mHFH\n",
      "FFFH\n",
      "HFFG\n",
      "3\n"
     ]
    }
   ],
   "source": [
    "env = gym.make('FrozenLake-v0')\n",
    "env.reset()\n",
    "env.render()\n",
    "print(env.step(1))\n",
    "env.render()\n",
    "a = env.action_space.sample()\n",
    "print(a)"
   ]
  },
  {
   "cell_type": "code",
   "execution_count": 46,
   "metadata": {
    "collapsed": true
   },
   "outputs": [],
   "source": [
    "tf.reset_default_graph()"
   ]
  },
  {
   "cell_type": "code",
   "execution_count": 47,
   "metadata": {
    "collapsed": true
   },
   "outputs": [],
   "source": [
    "#These lines establish the feed-forward part of the network used to choose actions\n",
    "inputs1 = tf.placeholder(shape=[1,16],dtype=tf.float32)\n",
    "W1 = tf.Variable(tf.random_uniform([16,8], 0, 0.01))\n",
    "W2 = tf.Variable(tf.random_uniform([8,4], 0, 0.01))\n",
    "Qout = tf.matmul(tf.matmul(inputs1,W1), W2)\n",
    "predict = tf.argmax(Qout,1)\n",
    "\n",
    "#Below we obtain the loss by taking the sum of squares difference between the target and prediction Q values.\n",
    "nextQ = tf.placeholder(shape=[1,4],dtype=tf.float32)\n",
    "loss = tf.reduce_sum(tf.square(nextQ - Qout))\n",
    "trainer = tf.train.GradientDescentOptimizer(learning_rate=0.1)\n",
    "updateModel = trainer.minimize(loss)"
   ]
  },
  {
   "cell_type": "code",
   "execution_count": 55,
   "metadata": {},
   "outputs": [
    {
     "name": "stdout",
     "output_type": "stream",
     "text": [
      "(1, 4)\n",
      "(1, 4)\n",
      "0.000227002\n",
      "Percent of succesful episodes: 0.048%\n"
     ]
    }
   ],
   "source": [
    "init = tf.global_variables_initializer()\n",
    "\n",
    "# Set learning parameters\n",
    "y = .99\n",
    "e = 0.1\n",
    "num_episodes = 2000\n",
    "#create lists to contain total rewards and steps per episode\n",
    "jList = []\n",
    "rList = []\n",
    "with tf.Session() as sess:\n",
    "    sess.run(init)\n",
    "    for i in range(num_episodes):\n",
    "        #Reset environment and get first new observation\n",
    "        s = env.reset()\n",
    "        rAll = 0\n",
    "        d = False\n",
    "        j = 0\n",
    "        #The Q-Network\n",
    "        while j < 99:\n",
    "            j+=1\n",
    "            #Choose an action by greedily (with e chance of random action) from the Q-network\n",
    "            a,allQ = sess.run([predict,Qout],feed_dict={inputs1:np.identity(16)[s:s+1]})\n",
    "            if i == 0 and j == 1:\n",
    "                print(allQ.shape)\n",
    "            if np.random.rand(1) < e:\n",
    "                a[0] = env.action_space.sample()\n",
    "            #Get new state and reward from environment\n",
    "            s1,r,d,_ = env.step(a[0])\n",
    "            #Obtain the Q' values by feeding the new state through our network\n",
    "            Q1 = sess.run(Qout,feed_dict={inputs1:np.identity(16)[s1:s1+1]})\n",
    "            if i == 0 and j == 1:\n",
    "                print(Q1.shape)\n",
    "                print(np.max(Q1))\n",
    "\n",
    "            #Obtain maxQ' and set our target value for chosen action.\n",
    "            maxQ1 = np.max(Q1)\n",
    "            targetQ = allQ\n",
    "            targetQ[0,a[0]] = r + y*maxQ1\n",
    "            #Train our network using target and predicted Q values\n",
    "            _,_W1,_W2 = sess.run([updateModel,W1,W2],feed_dict={inputs1:np.identity(16)[s:s+1],nextQ:targetQ})\n",
    "            rAll += r\n",
    "            s = s1\n",
    "            if d == True:\n",
    "                #Reduce chance of random action as we train the model.\n",
    "                e = 1./((i/50) + 10)\n",
    "                break\n",
    "        jList.append(j)\n",
    "        rList.append(rAll)\n",
    "print(\"Percent of succesful episodes: \" + str(sum(rList)/num_episodes) + \"%\")"
   ]
  },
  {
   "cell_type": "code",
   "execution_count": 49,
   "metadata": {},
   "outputs": [
    {
     "name": "stdout",
     "output_type": "stream",
     "text": [
      "[0.0, 1.0, 0.0, 0.0, 0.0, 0.0, 0.0, 0.0, 0.0, 0.0, 0.0, 0.0, 0.0, 0.0, 0.0, 0.0, 0.0, 0.0, 0.0, 0.0, 0.0, 0.0, 0.0, 0.0, 0.0, 0.0, 0.0, 0.0, 0.0, 0.0, 0.0, 0.0, 0.0, 0.0, 0.0, 0.0, 0.0, 0.0, 0.0, 0.0, 0.0, 0.0, 0.0, 0.0, 0.0, 0.0, 0.0, 0.0, 1.0, 0.0, 0.0, 0.0, 0.0, 0.0, 0.0, 0.0, 0.0, 0.0, 0.0, 0.0, 0.0, 0.0, 0.0, 0.0, 0.0, 0.0, 0.0, 0.0, 0.0, 0.0, 0.0, 0.0, 0.0, 0.0, 0.0, 0.0, 0.0, 0.0, 0.0, 0.0, 0.0, 0.0, 0.0, 0.0, 0.0, 0.0, 0.0, 0.0, 0.0, 0.0, 0.0, 0.0, 0.0, 0.0, 0.0, 0.0, 0.0, 0.0, 0.0, 0.0, 0.0, 0.0, 1.0, 1.0, 0.0, 0.0, 0.0, 0.0, 0.0, 0.0, 0.0, 0.0, 0.0, 0.0, 0.0, 0.0, 0.0, 0.0, 0.0, 0.0, 0.0, 0.0, 0.0, 0.0, 0.0, 0.0, 0.0, 0.0, 0.0, 0.0, 0.0, 0.0, 0.0, 0.0, 0.0, 0.0, 0.0, 0.0, 0.0, 0.0, 0.0, 0.0, 0.0, 0.0, 0.0, 0.0, 0.0, 0.0, 0.0, 0.0, 0.0, 0.0, 0.0, 0.0, 0.0, 0.0, 0.0, 0.0, 0.0, 0.0, 0.0, 0.0, 0.0, 0.0, 0.0, 0.0, 0.0, 0.0, 0.0, 0.0, 0.0, 0.0, 0.0, 0.0, 0.0, 0.0, 0.0, 0.0, 0.0, 0.0, 0.0, 0.0, 0.0, 0.0, 0.0, 0.0, 0.0, 0.0, 0.0, 0.0, 0.0, 0.0, 0.0, 0.0, 0.0, 0.0, 0.0, 0.0, 0.0, 0.0, 0.0, 0.0, 0.0, 0.0, 0.0, 0.0, 0.0, 0.0, 0.0, 0.0, 0.0, 0.0, 0.0, 0.0, 0.0, 0.0, 0.0, 0.0, 1.0, 0.0, 0.0, 0.0, 0.0, 0.0, 1.0, 0.0, 0.0, 0.0, 0.0, 0.0, 0.0, 0.0, 0.0, 0.0, 1.0, 0.0, 0.0, 1.0, 0.0, 0.0, 1.0, 0.0, 0.0, 0.0, 1.0, 0.0, 0.0, 0.0, 0.0, 0.0, 0.0, 0.0, 0.0, 0.0, 0.0, 0.0, 0.0, 0.0, 0.0, 0.0, 0.0, 0.0, 0.0, 0.0, 0.0, 0.0, 0.0, 0.0, 0.0, 0.0, 0.0, 0.0, 0.0, 0.0, 0.0, 0.0, 0.0, 0.0, 0.0, 0.0, 0.0, 0.0, 0.0, 0.0, 0.0, 0.0, 0.0, 1.0, 0.0, 0.0, 0.0, 0.0, 0.0, 0.0, 0.0, 0.0, 0.0, 0.0, 0.0, 0.0, 0.0, 0.0, 0.0, 0.0, 0.0, 0.0, 0.0, 0.0, 0.0, 1.0, 0.0, 0.0, 0.0, 0.0, 0.0, 0.0, 0.0, 0.0, 0.0, 0.0, 0.0, 0.0, 0.0, 0.0, 0.0, 0.0, 0.0, 0.0, 0.0, 0.0, 0.0, 0.0, 0.0, 0.0, 0.0, 0.0, 0.0, 0.0, 0.0, 0.0, 0.0, 0.0, 0.0, 0.0, 0.0, 0.0, 0.0, 1.0, 0.0, 0.0, 0.0, 0.0, 0.0, 0.0, 0.0, 0.0, 0.0, 0.0, 0.0, 0.0, 0.0, 0.0, 0.0, 0.0, 0.0, 0.0, 0.0, 0.0, 0.0, 0.0, 0.0, 0.0, 0.0, 0.0, 0.0, 0.0, 0.0, 0.0, 0.0, 0.0, 0.0, 0.0, 0.0, 0.0, 0.0, 0.0, 0.0, 0.0, 0.0, 0.0, 0.0, 0.0, 0.0, 1.0, 0.0, 0.0, 0.0, 0.0, 0.0, 0.0, 0.0, 0.0, 0.0, 0.0, 0.0, 0.0, 0.0, 0.0, 0.0, 0.0, 0.0, 0.0, 0.0, 0.0, 1.0, 0.0, 0.0, 0.0, 0.0, 0.0, 0.0, 1.0, 0.0, 0.0, 0.0, 0.0, 0.0, 0.0, 0.0, 0.0, 0.0, 0.0, 0.0, 0.0, 0.0, 0.0, 0.0, 0.0, 0.0, 0.0, 0.0, 0.0, 0.0, 0.0, 1.0, 0.0, 1.0, 0.0, 0.0, 1.0, 0.0, 0.0, 0.0, 0.0, 0.0, 0.0, 0.0, 0.0, 0.0, 0.0, 0.0, 0.0, 0.0, 0.0, 0.0, 0.0, 0.0, 0.0, 0.0, 0.0, 0.0, 0.0, 0.0, 0.0, 0.0, 0.0, 0.0, 0.0, 0.0, 0.0, 0.0, 0.0, 0.0, 0.0, 0.0, 0.0, 0.0, 0.0, 0.0, 0.0, 0.0, 0.0, 0.0, 0.0, 0.0, 0.0, 0.0, 0.0, 0.0, 0.0, 0.0, 0.0, 0.0, 0.0, 0.0, 0.0, 0.0, 0.0, 0.0, 0.0, 0.0, 0.0, 0.0, 0.0, 0.0, 0.0, 0.0, 1.0, 0.0, 0.0, 0.0, 0.0, 0.0, 0.0, 0.0, 0.0, 0.0, 0.0, 0.0, 0.0, 0.0, 0.0, 0.0, 0.0, 0.0, 0.0, 0.0, 0.0, 0.0, 0.0, 0.0, 0.0, 0.0, 0.0, 0.0, 0.0, 0.0, 0.0, 0.0, 0.0, 0.0, 0.0, 0.0, 0.0, 0.0, 0.0, 0.0, 0.0, 0.0, 0.0, 0.0, 0.0, 0.0, 0.0, 0.0, 0.0, 0.0, 0.0, 0.0, 0.0, 0.0, 0.0, 0.0, 0.0, 0.0, 0.0, 0.0, 0.0, 0.0, 0.0, 0.0, 0.0, 0.0, 0.0, 0.0, 0.0, 0.0, 0.0, 0.0, 0.0, 0.0, 0.0, 0.0, 0.0, 0.0, 0.0, 0.0, 0.0, 0.0, 0.0, 0.0, 0.0, 0.0, 0.0, 0.0, 0.0, 0.0, 0.0, 0.0, 1.0, 0.0, 0.0, 0.0, 0.0, 0.0, 0.0, 0.0, 1.0, 0.0, 0.0, 0.0, 0.0, 0.0, 0.0, 0.0, 0.0, 0.0, 0.0, 0.0, 0.0, 0.0, 0.0, 0.0, 0.0, 0.0, 0.0, 0.0, 0.0, 0.0, 0.0, 0.0, 0.0, 0.0, 0.0, 0.0, 0.0, 0.0, 0.0, 0.0, 0.0, 0.0, 0.0, 0.0, 0.0, 0.0, 0.0, 0.0, 0.0, 0.0, 0.0, 0.0, 0.0, 0.0, 1.0, 0.0, 0.0, 0.0, 0.0, 0.0, 0.0, 0.0, 0.0, 0.0, 0.0, 0.0, 1.0, 0.0, 1.0, 0.0, 0.0, 0.0, 0.0, 0.0, 0.0, 0.0, 0.0, 0.0, 0.0, 0.0, 0.0, 0.0, 0.0, 0.0, 0.0, 1.0, 0.0, 0.0, 0.0, 0.0, 0.0, 0.0, 0.0, 0.0, 0.0, 0.0, 0.0, 0.0, 0.0, 0.0, 0.0, 0.0, 0.0, 0.0, 0.0, 0.0, 0.0, 0.0, 0.0, 1.0, 0.0, 0.0, 0.0, 0.0, 0.0, 0.0, 0.0, 0.0, 0.0, 0.0, 0.0, 0.0, 0.0, 0.0, 0.0, 0.0, 0.0, 0.0, 0.0, 0.0, 0.0, 1.0, 0.0, 0.0, 0.0, 0.0, 0.0, 0.0, 0.0, 0.0, 0.0, 0.0, 0.0, 0.0, 0.0, 0.0, 0.0, 0.0, 0.0, 1.0, 0.0, 0.0, 0.0, 0.0, 0.0, 0.0, 0.0, 0.0, 0.0, 0.0, 0.0, 0.0, 0.0, 0.0, 0.0, 0.0, 0.0, 0.0, 0.0, 0.0, 1.0, 0.0, 1.0, 0.0, 0.0, 0.0, 0.0, 0.0, 0.0, 0.0, 0.0, 0.0, 0.0, 0.0, 0.0, 0.0, 0.0, 0.0, 0.0, 0.0, 0.0, 0.0, 0.0, 0.0, 0.0, 0.0, 0.0, 0.0, 0.0, 0.0, 0.0, 0.0, 0.0, 0.0, 0.0, 0.0, 0.0, 1.0, 0.0, 0.0, 0.0, 0.0, 0.0, 0.0, 0.0, 0.0, 0.0, 0.0, 0.0, 0.0, 0.0, 0.0, 0.0, 0.0, 0.0, 0.0, 0.0, 0.0, 0.0, 0.0, 0.0, 0.0, 0.0, 0.0, 0.0, 0.0, 0.0, 0.0, 0.0, 0.0, 0.0, 0.0, 0.0, 0.0, 0.0, 0.0, 0.0, 0.0, 0.0, 0.0, 0.0, 0.0, 0.0, 0.0, 0.0, 0.0, 0.0, 0.0, 0.0, 0.0, 0.0, 0.0, 0.0, 0.0, 0.0, 0.0, 0.0, 0.0, 0.0, 1.0, 0.0, 0.0, 0.0, 0.0, 0.0, 0.0, 0.0, 1.0, 0.0, 0.0, 0.0, 0.0, 0.0, 1.0, 0.0, 0.0, 0.0, 0.0, 0.0, 0.0, 0.0, 0.0, 0.0, 0.0, 0.0, 1.0, 0.0, 0.0, 0.0, 1.0, 0.0, 0.0, 0.0, 0.0, 0.0, 0.0, 0.0, 0.0, 0.0, 0.0, 0.0, 0.0, 1.0, 0.0, 0.0, 0.0, 0.0, 0.0, 0.0, 0.0, 0.0, 0.0, 0.0, 0.0, 0.0, 0.0, 0.0, 0.0, 0.0, 0.0, 0.0, 0.0, 0.0, 1.0, 0.0, 0.0, 0.0, 0.0, 0.0, 0.0, 0.0, 0.0, 0.0, 0.0, 0.0, 1.0, 0.0, 0.0, 0.0, 0.0, 0.0, 0.0, 0.0, 0.0, 0.0, 0.0, 0.0, 0.0, 0.0, 0.0, 1.0, 0.0, 0.0, 0.0, 0.0, 0.0, 0.0, 0.0, 0.0, 0.0, 1.0, 0.0, 0.0, 0.0, 0.0, 0.0, 0.0, 0.0, 0.0, 0.0, 1.0, 0.0, 0.0, 0.0, 0.0, 0.0, 0.0, 0.0, 0.0, 0.0, 0.0, 0.0, 0.0, 0.0, 1.0, 0.0, 0.0, 0.0, 0.0, 0.0, 0.0, 0.0, 0.0, 0.0, 1.0, 0.0, 0.0, 0.0, 0.0, 0.0, 0.0, 0.0, 0.0, 0.0, 0.0, 0.0, 0.0, 0.0, 0.0, 0.0, 0.0, 0.0, 0.0, 0.0, 0.0, 0.0, 0.0, 0.0, 0.0, 0.0, 0.0, 0.0, 0.0, 0.0, 0.0, 0.0, 0.0, 1.0, 0.0, 0.0, 0.0, 1.0, 0.0, 0.0, 0.0, 0.0, 0.0, 0.0, 0.0, 0.0, 1.0, 0.0, 0.0, 0.0, 1.0, 0.0, 0.0, 0.0, 0.0, 0.0, 0.0, 0.0, 0.0, 0.0, 0.0, 0.0, 1.0, 0.0, 0.0, 0.0, 0.0, 0.0, 1.0, 0.0, 0.0, 0.0, 0.0, 0.0, 0.0, 0.0, 0.0, 0.0, 0.0, 1.0, 0.0, 0.0, 0.0, 0.0, 0.0, 0.0, 0.0, 0.0, 0.0, 0.0, 0.0, 0.0, 0.0, 0.0, 0.0, 0.0, 0.0, 0.0, 0.0, 0.0, 0.0, 0.0, 0.0, 0.0, 0.0, 0.0, 0.0, 0.0, 0.0, 0.0, 0.0, 0.0, 0.0, 0.0, 0.0, 1.0, 0.0, 0.0, 0.0, 0.0, 0.0, 1.0, 0.0, 0.0, 0.0, 0.0, 0.0, 0.0, 0.0, 0.0, 0.0, 0.0, 0.0, 1.0, 0.0, 0.0, 0.0, 0.0, 0.0, 0.0, 0.0, 0.0, 0.0, 0.0, 0.0, 1.0, 0.0, 0.0, 0.0, 0.0, 0.0, 0.0, 0.0, 0.0, 1.0, 0.0, 0.0, 0.0, 0.0, 0.0, 0.0, 0.0, 0.0, 0.0, 0.0, 0.0, 0.0, 0.0, 0.0, 0.0, 0.0, 0.0, 0.0, 0.0, 0.0, 0.0, 0.0, 0.0, 0.0, 0.0, 0.0, 0.0, 0.0, 0.0, 0.0, 0.0, 0.0, 0.0, 0.0, 0.0, 0.0, 0.0, 0.0, 1.0, 0.0, 0.0, 0.0, 1.0, 0.0, 0.0, 0.0, 0.0, 0.0, 0.0, 0.0, 0.0, 0.0, 0.0, 0.0, 0.0, 0.0, 0.0, 0.0, 0.0, 0.0, 0.0, 0.0, 0.0, 0.0, 0.0, 0.0, 0.0, 0.0, 0.0, 0.0, 0.0, 0.0, 0.0, 0.0, 0.0, 0.0, 0.0, 0.0, 0.0, 0.0, 0.0, 0.0, 0.0, 0.0, 0.0, 0.0, 0.0, 0.0, 0.0, 0.0, 0.0, 0.0, 0.0, 1.0, 0.0, 0.0, 0.0, 0.0, 0.0, 0.0, 0.0, 0.0, 0.0, 1.0, 0.0, 0.0, 0.0, 1.0, 0.0, 0.0, 0.0, 0.0, 0.0, 0.0, 0.0, 0.0, 0.0, 0.0, 0.0, 0.0, 0.0, 0.0, 0.0, 0.0, 0.0, 0.0, 0.0, 0.0, 0.0, 0.0, 0.0, 0.0, 0.0, 1.0, 0.0, 0.0, 0.0, 0.0, 0.0, 0.0, 0.0, 0.0, 0.0, 0.0, 0.0, 0.0, 0.0, 0.0, 0.0, 0.0, 0.0, 0.0, 0.0, 0.0, 0.0, 0.0, 0.0, 0.0, 0.0, 0.0, 0.0, 0.0, 1.0, 0.0, 0.0, 0.0, 0.0, 0.0, 0.0, 0.0, 0.0, 0.0, 0.0, 0.0, 0.0, 0.0, 1.0, 0.0, 0.0, 0.0, 0.0, 0.0, 0.0, 0.0, 0.0, 1.0, 0.0, 0.0, 1.0, 0.0, 0.0, 0.0, 0.0, 0.0, 0.0, 0.0, 0.0, 0.0, 0.0, 0.0, 1.0, 0.0, 1.0, 0.0, 0.0, 1.0, 0.0, 0.0, 0.0, 0.0, 0.0, 0.0, 0.0, 0.0, 0.0, 0.0, 0.0, 0.0, 0.0, 0.0, 0.0, 0.0, 0.0, 0.0, 0.0, 0.0, 0.0, 0.0, 0.0, 0.0, 0.0, 0.0, 0.0, 0.0, 0.0, 0.0, 0.0, 0.0, 0.0, 1.0, 0.0, 1.0, 0.0, 0.0, 0.0, 0.0, 0.0, 0.0, 0.0, 0.0, 0.0, 0.0, 0.0, 0.0, 0.0, 0.0, 1.0, 0.0, 0.0, 0.0, 0.0, 0.0, 0.0, 0.0, 1.0, 0.0, 0.0, 0.0, 0.0, 0.0, 0.0, 1.0, 0.0, 0.0, 0.0, 1.0, 0.0, 0.0, 0.0, 0.0, 0.0, 0.0, 0.0, 0.0, 0.0, 0.0, 0.0, 0.0, 0.0, 0.0, 0.0, 0.0, 0.0, 0.0, 0.0, 0.0, 0.0, 0.0, 0.0, 0.0, 0.0, 0.0, 0.0, 0.0, 0.0, 0.0, 0.0, 0.0, 0.0, 0.0, 1.0, 0.0, 0.0, 0.0, 0.0, 0.0, 0.0, 0.0, 0.0, 0.0, 0.0, 0.0, 0.0, 0.0, 0.0, 0.0, 0.0, 0.0, 0.0, 0.0, 0.0, 0.0, 0.0, 0.0, 0.0, 0.0, 0.0, 0.0, 0.0, 0.0, 0.0, 0.0, 0.0, 0.0, 0.0, 0.0, 0.0, 0.0, 0.0, 0.0, 0.0, 0.0, 0.0, 0.0, 0.0, 0.0, 0.0, 0.0, 0.0, 0.0, 0.0, 0.0, 0.0, 0.0, 0.0, 0.0, 0.0, 0.0, 1.0, 0.0, 0.0, 1.0, 0.0, 0.0, 0.0, 0.0, 0.0, 0.0, 0.0, 0.0, 0.0, 0.0, 0.0, 0.0, 0.0, 0.0, 0.0, 0.0, 0.0, 0.0, 0.0, 0.0, 0.0, 0.0, 0.0, 0.0, 0.0, 0.0, 0.0, 0.0, 0.0, 0.0, 0.0, 0.0, 0.0, 0.0, 0.0, 0.0, 0.0, 0.0, 0.0, 0.0, 0.0, 0.0, 0.0, 0.0, 0.0, 0.0, 0.0, 0.0, 0.0, 0.0, 0.0, 0.0, 0.0, 0.0, 0.0, 0.0, 0.0, 0.0, 0.0, 0.0, 0.0, 0.0, 0.0, 0.0, 0.0, 0.0, 0.0, 0.0, 0.0, 0.0, 0.0, 0.0, 0.0, 0.0, 0.0, 0.0, 0.0, 0.0, 0.0, 0.0, 0.0, 0.0, 1.0, 0.0, 0.0, 0.0, 0.0, 0.0, 0.0, 1.0, 0.0, 0.0, 0.0, 0.0, 0.0, 0.0, 0.0, 0.0, 0.0, 1.0, 0.0, 0.0, 0.0, 0.0, 0.0, 0.0, 0.0, 0.0, 0.0, 0.0, 0.0, 0.0, 0.0, 0.0, 1.0, 0.0, 0.0, 0.0, 0.0, 0.0, 0.0, 0.0, 0.0, 0.0, 0.0, 0.0, 0.0, 0.0, 0.0, 0.0, 0.0, 0.0, 0.0, 0.0, 0.0, 0.0, 0.0, 0.0, 0.0, 0.0, 0.0, 0.0, 0.0, 0.0, 0.0, 0.0, 0.0, 1.0, 0.0, 0.0, 0.0, 0.0, 0.0, 0.0, 0.0, 0.0, 0.0, 0.0, 0.0, 0.0, 0.0, 0.0, 0.0, 0.0, 0.0, 0.0, 0.0, 0.0, 0.0, 0.0, 0.0, 0.0, 0.0, 0.0, 0.0, 0.0, 0.0, 0.0, 0.0, 0.0, 0.0, 0.0, 0.0, 0.0, 0.0, 0.0, 0.0, 0.0, 0.0, 0.0, 0.0, 0.0, 0.0, 0.0, 0.0, 0.0, 0.0, 0.0, 1.0, 0.0, 0.0, 0.0, 0.0, 0.0, 0.0, 0.0, 0.0, 0.0, 1.0, 1.0, 0.0, 0.0, 0.0, 0.0, 0.0, 0.0, 0.0, 0.0, 0.0, 0.0, 0.0, 0.0, 0.0, 0.0, 1.0, 0.0, 0.0, 0.0, 0.0, 0.0, 0.0, 0.0, 0.0, 0.0, 0.0, 0.0, 0.0, 0.0, 0.0, 0.0, 0.0, 0.0, 0.0, 0.0, 0.0, 0.0, 0.0, 0.0, 0.0, 0.0, 0.0, 0.0, 0.0, 0.0, 0.0, 0.0, 0.0, 0.0, 0.0, 0.0, 0.0, 0.0, 0.0, 0.0, 0.0, 0.0, 0.0, 0.0, 0.0, 0.0, 0.0, 0.0, 0.0, 0.0, 1.0, 0.0, 0.0, 0.0, 0.0, 0.0, 0.0, 0.0, 0.0, 0.0, 0.0, 0.0, 0.0, 0.0, 0.0, 0.0, 0.0, 0.0, 0.0, 0.0, 0.0, 0.0, 0.0, 0.0, 0.0, 0.0, 0.0, 0.0, 0.0, 0.0, 0.0, 0.0, 0.0, 0.0, 0.0, 0.0, 0.0, 0.0, 0.0, 0.0, 0.0, 0.0, 0.0, 0.0, 0.0, 0.0, 0.0, 0.0, 0.0, 0.0, 0.0, 0.0, 0.0, 0.0, 0.0, 0.0, 0.0, 0.0, 0.0, 0.0, 0.0, 0.0, 0.0, 0.0, 0.0, 1.0, 0.0, 0.0, 1.0, 0.0, 0.0, 0.0, 1.0, 0.0, 1.0, 0.0, 0.0, 0.0, 0.0, 0.0, 0.0, 0.0, 1.0, 0.0, 0.0, 0.0, 0.0, 0.0, 0.0, 0.0, 0.0, 0.0, 0.0, 0.0, 0.0, 0.0, 0.0, 0.0, 0.0, 0.0, 0.0, 0.0, 0.0, 0.0, 0.0, 0.0, 0.0, 0.0, 0.0, 0.0, 0.0, 0.0, 0.0, 0.0, 0.0, 0.0, 0.0, 0.0, 0.0, 0.0, 0.0, 0.0, 0.0, 0.0, 0.0, 0.0, 0.0, 0.0, 0.0, 0.0, 0.0, 0.0, 0.0, 0.0, 0.0, 0.0, 0.0, 0.0, 0.0, 0.0, 0.0, 0.0, 1.0, 0.0, 0.0, 0.0, 1.0, 0.0, 0.0, 0.0, 0.0, 0.0, 0.0, 0.0, 1.0, 0.0, 0.0, 0.0, 0.0, 0.0, 0.0, 0.0, 0.0, 0.0, 0.0, 0.0, 0.0, 0.0, 0.0, 0.0, 0.0, 0.0, 0.0, 0.0, 0.0, 0.0, 0.0, 0.0, 0.0, 0.0, 1.0, 0.0, 0.0, 0.0, 0.0, 0.0]\n"
     ]
    },
    {
     "data": {
      "image/png": "[encoded data removed]",
      "text/plain": [
       "<matplotlib.figure.Figure at 0x9f8eba8>"
      ]
     },
     "metadata": {},
     "output_type": "display_data"
    }
   ],
   "source": [
    "plt.plot(rList)\n",
    "print(rList)"
   ]
  },
  {
   "cell_type": "code",
   "execution_count": 50,
   "metadata": {},
   "outputs": [
    {
     "data": {
      "text/plain": [
       "[<matplotlib.lines.Line2D at 0xa694cc0>]"
      ]
     },
     "execution_count": 50,
     "metadata": {},
     "output_type": "execute_result"
    },
    {
     "data": {
      "image/png": "[encoded data removed]",
      "text/plain": [
       "<matplotlib.figure.Figure at 0xa63fac8>"
      ]
     },
     "metadata": {},
     "output_type": "display_data"
    }
   ],
   "source": [
    "plt.plot(jList)"
   ]
  },
  {
   "cell_type": "code",
   "execution_count": 15,
   "metadata": {},
   "outputs": [
    {
     "name": "stdout",
     "output_type": "stream",
     "text": [
      "[13, 18, 9, 9, 5, 20, 9, 19, 26, 4, 10, 25, 6, 26, 6, 14, 6, 4, 16, 35, 11, 18, 39, 32, 3, 3, 5, 26, 9, 23, 24, 3, 2, 2, 3, 14, 9, 5, 6, 10, 18, 11, 12, 19, 4, 54, 2, 25, 4, 30, 18, 23, 39, 39, 34, 3, 52, 11, 6, 3, 15, 13, 11, 2, 15, 9, 4, 4, 36, 17, 15, 13, 12, 17, 9, 17, 18, 20, 12, 14, 37, 9, 35, 8, 5, 3, 17, 13, 6, 5, 6, 14, 40, 35, 8, 23, 3, 8, 6, 8, 6, 12, 28, 9, 8, 22, 4, 4, 10, 12, 4, 7, 15, 10, 4, 6, 19, 9, 16, 8, 7, 30, 80, 15, 16, 5, 22, 26, 7, 4, 6, 10, 14, 8, 11, 8, 15, 11, 9, 10, 3, 6, 18, 13, 5, 24, 4, 4, 13, 7, 13, 8, 5, 62, 18, 7, 3, 15, 7, 8, 17, 53, 9, 49, 12, 13, 24, 6, 7, 11, 7, 7, 9, 20, 13, 9, 76, 9, 16, 17, 16, 10, 11, 13, 22, 21, 3, 5, 23, 8, 12, 20, 22, 3, 24, 4, 10, 3, 22, 9, 43, 26, 18, 5, 12, 31, 22, 11, 9, 6, 12, 4, 8, 30, 3, 9, 19, 19, 16, 3, 41, 8, 6, 10, 11, 6, 14, 48, 90, 7, 6, 21, 27, 18, 73, 9, 11, 6, 9, 10, 9, 16, 10, 11, 15, 17, 22, 22, 13, 11, 3, 3, 12, 21, 26, 6, 25, 12, 51, 10, 10, 9, 23, 3, 5, 22, 10, 12, 14, 35, 15, 13, 6, 13, 8, 4, 59, 24, 65, 9, 12, 33, 35, 13, 11, 12, 8, 5, 6, 5, 21, 6, 6, 11, 42, 2, 11, 32, 13, 4, 10, 12, 26, 39, 11, 38, 5, 26, 4, 6, 3, 30, 5, 69, 7, 3, 26, 39, 15, 5, 19, 14, 12, 3, 7, 14, 12, 15, 15, 5, 12, 21, 22, 4, 15, 7, 22, 8, 22, 5, 6, 18, 17, 9, 8, 32, 22, 29, 16, 57, 25, 4, 18, 4, 6, 36, 9, 3, 5, 4, 25, 14, 13, 7, 8, 17, 24, 5, 9, 7, 4, 16, 14, 3, 8, 26, 3, 12, 17, 16, 17, 29, 41, 7, 22, 12, 21, 21, 25, 11, 14, 34, 15, 2, 12, 14, 5, 6, 7, 56, 29, 8, 4, 44, 3, 5, 7, 15, 20, 9, 11, 14, 27, 11, 29, 4, 5, 9, 11, 3, 6, 4, 52, 8, 13, 27, 5, 6, 22, 32, 4, 6, 10, 6, 11, 10, 2, 20, 11, 6, 12, 17, 14, 4, 9, 11, 17, 13, 67, 8, 28, 82, 23, 8, 14, 3, 15, 4, 4, 14, 15, 6, 11, 13, 3, 21, 6, 12, 6, 4, 12, 7, 5, 11, 31, 14, 6, 11, 21, 4, 26, 9, 4, 14, 16, 21, 25, 4, 10, 9, 2, 19, 25, 13, 6, 11, 6, 9, 20, 58, 6, 19, 6, 12, 17, 14, 10, 16, 14, 6, 9, 6, 14, 6, 3, 17, 17, 4, 6, 24, 24, 20, 57, 15, 26, 12, 2, 29, 10, 20, 36, 15, 17, 14, 15, 11, 76, 20, 50, 9, 7, 13, 6, 9, 11, 16, 63, 4, 86, 16, 28, 17, 20, 9, 15, 28, 14, 39, 35, 2, 15, 64, 64, 18, 35, 21, 12, 15, 12, 76, 18, 3, 12, 38, 46, 7, 7, 21, 8, 29, 3, 14, 15, 27, 12, 6, 16, 17, 14, 10, 19, 14, 28, 44, 33, 23, 2, 12, 32, 59, 4, 16, 7, 4, 40, 35, 23, 11, 36, 5, 10, 12, 18, 15, 15, 10, 6, 13, 53, 19, 8, 27, 9, 9, 22, 11, 10, 4, 7, 42, 10, 18, 10, 35, 7, 12, 8, 5, 5, 6, 15, 33, 28, 9, 10, 26, 68, 10, 14, 4, 68, 6, 5, 6, 50, 9, 5, 30, 5, 37, 20, 28, 34, 17, 5, 21, 34, 25, 3, 8, 11, 4, 8, 23, 7, 13, 8, 32, 27, 4, 10, 21, 12, 23, 32, 14, 12, 9, 33, 7, 9, 5, 11, 11, 19, 58, 9, 6, 6, 12, 24, 27, 12, 43, 3, 8, 3, 11, 4, 6, 18, 5, 27, 4, 11, 4, 10, 6, 47, 11, 17, 3, 16, 12, 21, 15, 4, 3, 5, 18, 19, 8, 3, 24, 22, 18, 19, 10, 12, 12, 17, 10, 7, 12, 80, 8, 8, 39, 28, 4, 31, 27, 3, 5, 15, 28, 14, 15, 7, 11, 40, 13, 13, 10, 12, 37, 12, 14, 17, 8, 18, 9, 11, 33, 36, 27, 25, 40, 7, 15, 18, 5, 40, 14, 7, 12, 4, 22, 6, 11, 9, 14, 18, 29, 9, 5, 9, 25, 63, 2, 23, 34, 11, 3, 17, 16, 7, 4, 4, 16, 36, 5, 17, 63, 6, 8, 22, 8, 10, 3, 7, 23, 20, 14, 6, 27, 25, 37, 7, 11, 4, 24, 3, 13, 2, 18, 36, 21, 13, 5, 7, 47, 8, 11, 9, 8, 41, 23, 7, 11, 45, 11, 16, 19, 14, 37, 32, 23, 26, 10, 11, 9, 8, 8, 21, 13, 15, 17, 30, 8, 27, 5, 10, 17, 4, 8, 39, 12, 18, 20, 14, 10, 48, 34, 15, 8, 10, 3, 9, 7, 14, 9, 22, 5, 22, 3, 4, 27, 22, 64, 5, 6, 17, 34, 5, 46, 12, 6, 4, 8, 10, 20, 24, 30, 7, 5, 8, 12, 4, 51, 11, 10, 23, 17, 37, 14, 6, 18, 17, 23, 14, 42, 16, 24, 13, 9, 17, 40, 32, 28, 17, 23, 11, 4, 17, 32, 38, 46, 7, 28, 15, 19, 6, 6, 16, 30, 43, 29, 17, 29, 5, 7, 29, 4, 9, 29, 4, 32, 5, 3, 10, 3, 6, 31, 25, 24, 13, 19, 28, 16, 6, 5, 7, 14, 35, 13, 22, 42, 10, 4, 14, 8, 12, 17, 14, 73, 17, 10, 4, 8, 6, 10, 43, 10, 12, 7, 16, 16, 46, 3, 10, 7, 25, 5, 3, 11, 32, 20, 46, 11, 12, 16, 11, 5, 5, 16, 13, 46, 14, 22, 18, 8, 15, 4, 16, 5, 14, 26, 40, 25, 6, 6, 24, 6, 8, 12, 22, 8, 5, 3, 11, 10, 6, 4, 31, 12, 9, 18, 17, 12, 13, 3, 7, 18, 15, 14, 25, 6, 11, 6, 12, 12, 15, 4, 15, 11, 8, 19, 10, 10, 7, 21, 16, 9, 7, 16, 8, 11, 31, 26, 19, 7, 3, 14, 6, 22, 36, 32, 4, 27, 34, 20, 49, 4, 24, 30, 5, 5, 9, 22, 5, 27, 5, 50, 20, 6, 48, 33, 16, 6, 7, 11, 17, 4, 52, 40, 10, 11, 5, 40, 19, 11, 6, 11, 13, 19, 18, 12, 56, 6, 20, 16, 6, 4, 9, 3, 5, 8, 4, 4, 5, 14, 3, 25, 35, 7, 9, 15, 11, 4, 6, 27, 14, 3, 7, 19, 10, 20, 8, 6, 8, 25, 3, 22, 11, 7, 7, 3, 22, 23, 4, 9, 7, 10, 7, 9, 13, 19, 7, 39, 6, 99, 6, 12, 3, 26, 8, 7, 24, 3, 7, 3, 9, 10, 11, 28, 15, 8, 12, 5, 66, 10, 12, 5, 27, 5, 23, 16, 34, 10, 5, 3, 26, 5, 24, 5, 24, 7, 9, 6, 27, 22, 12, 42, 6, 29, 29, 4, 19, 55, 13, 9, 14, 21, 3, 6, 6, 6, 23, 19, 11, 6, 30, 3, 22, 13, 8, 16, 6, 9, 22, 38, 15, 20, 21, 10, 13, 30, 17, 4, 17, 18, 16, 9, 9, 14, 24, 28, 10, 37, 7, 18, 23, 11, 13, 22, 23, 63, 7, 26, 10, 10, 5, 6, 10, 47, 11, 4, 8, 16, 18, 61, 15, 4, 3, 29, 9, 3, 28, 20, 19, 3, 14, 11, 21, 16, 5, 9, 15, 7, 5, 10, 14, 19, 7, 4, 8, 20, 10, 5, 6, 10, 16, 5, 10, 10, 9, 26, 6, 20, 14, 13, 14, 12, 4, 14, 6, 20, 17, 15, 30, 34, 7, 10, 14, 5, 20, 13, 10, 9, 24, 9, 7, 20, 10, 17, 3, 12, 23, 7, 15, 16, 13, 8, 4, 15, 8, 10, 13, 13, 5, 4, 10, 11, 4, 48, 10, 15, 11, 3, 3, 23, 17, 10, 26, 5, 15, 44, 7, 16, 8, 14, 7, 15, 14, 24, 6, 3, 11, 13, 14, 39, 20, 6, 3, 25, 21, 21, 30, 4, 15, 6, 18, 17, 17, 8, 11, 6, 10, 9, 10, 6, 20, 22, 5, 3, 13, 4, 8, 29, 5, 8, 33, 13, 6, 14, 9, 11, 11, 49, 14, 10, 5, 20, 6, 9, 7, 5, 13, 11, 18, 20, 12, 9, 31, 5, 7, 9, 22, 13, 13, 10, 17, 64, 8, 10, 9, 8, 11, 23, 10, 15, 6, 64, 15, 4, 21, 11, 7, 25, 11, 46, 5, 18, 4, 4, 15, 7, 3, 13, 9, 16, 23, 9, 12, 33, 12, 26, 5, 9, 14, 21, 8, 2, 8, 11, 17, 20, 94, 31, 7, 6, 15, 15, 11, 13, 10, 12, 37, 6, 7, 7, 11, 20, 18, 22, 7, 5, 11, 5, 19, 31, 4, 17, 26, 31, 4, 6, 13, 10, 10, 15, 6, 7, 24, 5, 8, 39, 17, 45, 9, 13, 31, 12, 22, 9, 6, 58, 18, 13, 5, 5, 5, 14, 29, 11, 11, 20, 26, 9, 9, 8, 9, 17, 10, 9, 17, 7, 30, 14, 5, 37, 10, 7, 3, 9, 11, 3, 3, 7, 16, 10, 9, 5, 15, 2, 52, 15, 25, 13, 9, 41, 13, 11, 41, 15, 27, 15, 64, 21, 2, 11, 51, 6, 24, 11, 44, 26, 13, 53, 6, 20, 43, 12, 21, 6, 9, 4, 5, 4, 15, 19, 29, 32, 77, 21, 4, 15, 6, 5, 12, 10, 22, 7, 4, 5, 23, 11, 38, 28, 18, 7, 3, 13, 5, 16, 21, 26, 12, 11, 6, 11, 15, 18, 64, 17, 7, 3, 11, 5, 19, 27, 10, 19, 5, 6, 14, 50, 12, 13, 11, 20, 38, 22, 31, 4, 6, 3, 5, 3, 13, 22, 9, 12, 12, 8, 20, 7, 11, 55, 12, 32, 6, 34, 13, 10, 19, 12, 6, 9, 4, 4, 9, 12, 12, 10, 13, 5, 26, 29, 7, 8, 20, 5, 22, 25, 44, 27, 48, 28, 4, 16, 3, 17, 13, 15, 14, 17, 5, 11, 57, 18, 29, 58, 37, 11, 29, 11, 33, 5, 42, 18, 6, 7, 77, 37, 60, 36, 37, 9, 20, 9, 4, 19, 14, 12, 17, 6, 6, 9, 4, 7, 22, 7, 22, 18, 3, 28, 43, 5, 7, 8, 7, 23, 58, 5, 3, 19, 27, 9, 58, 24, 9, 12, 16, 9, 49, 6, 17, 4, 5, 21, 7, 4, 16, 23, 11, 10, 4, 9, 13, 13, 9, 14, 5, 3, 18, 5, 13, 46, 10, 45, 8, 14, 9, 21, 10, 15, 39, 4, 20, 38, 4, 22, 9, 38, 48, 3, 5, 7, 57, 22, 32, 34, 8, 6, 23, 13, 5, 8, 7, 3, 8, 10, 22, 16, 7, 37, 10, 12, 19, 5, 9, 14, 57, 14, 5, 7, 12, 14, 43, 7, 21, 18, 16, 10, 20, 47, 14, 83, 11, 6, 68, 14, 3, 5, 13, 23, 5, 23, 5, 24, 5, 27, 7, 6, 17, 4, 9, 7, 12, 6, 5, 19, 19, 3, 9, 7, 32, 17, 38, 4, 6, 8, 69, 17, 11, 26, 13, 7, 6, 11, 24, 27, 17, 24, 59, 6, 20, 25, 9, 3, 15, 12, 33, 32, 38, 21, 5, 14, 53, 16, 6, 46, 3, 4, 6, 4, 30, 25, 15, 60, 27, 4, 26, 6, 10, 29, 8, 9, 35, 10, 18, 6, 44, 26, 20, 3, 6, 14, 6, 25, 27, 7, 9, 6, 12, 35, 39, 18, 20, 21, 24, 21, 29, 56, 13, 6, 14, 7]\n"
     ]
    }
   ],
   "source": [
    "print(jList)"
   ]
  },
  {
   "cell_type": "code",
   "execution_count": 38,
   "metadata": {},
   "outputs": [
    {
     "data": {
      "text/plain": [
       "array([[ 1.,  0.,  0.,  0.,  0.,  0.,  0.,  0.,  0.,  0.,  0.,  0.,  0.,\n",
       "         0.,  0.,  0.],\n",
       "       [ 0.,  1.,  0.,  0.,  0.,  0.,  0.,  0.,  0.,  0.,  0.,  0.,  0.,\n",
       "         0.,  0.,  0.],\n",
       "       [ 0.,  0.,  1.,  0.,  0.,  0.,  0.,  0.,  0.,  0.,  0.,  0.,  0.,\n",
       "         0.,  0.,  0.],\n",
       "       [ 0.,  0.,  0.,  1.,  0.,  0.,  0.,  0.,  0.,  0.,  0.,  0.,  0.,\n",
       "         0.,  0.,  0.],\n",
       "       [ 0.,  0.,  0.,  0.,  1.,  0.,  0.,  0.,  0.,  0.,  0.,  0.,  0.,\n",
       "         0.,  0.,  0.],\n",
       "       [ 0.,  0.,  0.,  0.,  0.,  1.,  0.,  0.,  0.,  0.,  0.,  0.,  0.,\n",
       "         0.,  0.,  0.],\n",
       "       [ 0.,  0.,  0.,  0.,  0.,  0.,  1.,  0.,  0.,  0.,  0.,  0.,  0.,\n",
       "         0.,  0.,  0.],\n",
       "       [ 0.,  0.,  0.,  0.,  0.,  0.,  0.,  1.,  0.,  0.,  0.,  0.,  0.,\n",
       "         0.,  0.,  0.],\n",
       "       [ 0.,  0.,  0.,  0.,  0.,  0.,  0.,  0.,  1.,  0.,  0.,  0.,  0.,\n",
       "         0.,  0.,  0.],\n",
       "       [ 0.,  0.,  0.,  0.,  0.,  0.,  0.,  0.,  0.,  1.,  0.,  0.,  0.,\n",
       "         0.,  0.,  0.],\n",
       "       [ 0.,  0.,  0.,  0.,  0.,  0.,  0.,  0.,  0.,  0.,  1.,  0.,  0.,\n",
       "         0.,  0.,  0.],\n",
       "       [ 0.,  0.,  0.,  0.,  0.,  0.,  0.,  0.,  0.,  0.,  0.,  1.,  0.,\n",
       "         0.,  0.,  0.],\n",
       "       [ 0.,  0.,  0.,  0.,  0.,  0.,  0.,  0.,  0.,  0.,  0.,  0.,  1.,\n",
       "         0.,  0.,  0.],\n",
       "       [ 0.,  0.,  0.,  0.,  0.,  0.,  0.,  0.,  0.,  0.,  0.,  0.,  0.,\n",
       "         1.,  0.,  0.],\n",
       "       [ 0.,  0.,  0.,  0.,  0.,  0.,  0.,  0.,  0.,  0.,  0.,  0.,  0.,\n",
       "         0.,  1.,  0.],\n",
       "       [ 0.,  0.,  0.,  0.,  0.,  0.,  0.,  0.,  0.,  0.,  0.,  0.,  0.,\n",
       "         0.,  0.,  1.]])"
      ]
     },
     "execution_count": 38,
     "metadata": {},
     "output_type": "execute_result"
    }
   ],
   "source": [
    "np.identity(16)"
   ]
  },
  {
   "cell_type": "code",
   "execution_count": null,
   "metadata": {
    "collapsed": true
   },
   "outputs": [],
   "source": [
    ""
   ]
  }
 ],
 "metadata": {
  "kernelspec": {
   "display_name": "Python 3",
   "language": "python",
   "name": "python3"
  },
  "language_info": {
   "codemirror_mode": {
    "name": "ipython",
    "version": 3.0
   },
   "file_extension": ".py",
   "mimetype": "text/x-python",
   "name": "python",
   "nbconvert_exporter": "python",
   "pygments_lexer": "ipython3",
   "version": "3.5.2"
  }
 },
 "nbformat": 4,
 "nbformat_minor": 0
}