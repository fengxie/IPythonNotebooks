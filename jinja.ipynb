{
 "cells": [
  {
   "cell_type": "code",
   "execution_count": 11,
   "metadata": {},
   "outputs": [],
   "source": [
    "from jinja2 import Template\n",
    "from collections import namedtuple"
   ]
  },
  {
   "cell_type": "code",
   "execution_count": 2,
   "metadata": {},
   "outputs": [
    {
     "data": {
      "text/plain": [
       "'Hello John Doe!'"
      ]
     },
     "execution_count": 2,
     "metadata": {},
     "output_type": "execute_result"
    }
   ],
   "source": [
    "template = Template('Hello {{ name }}!')\n",
    "template.render(name='John Doe')"
   ]
  },
  {
   "cell_type": "code",
   "execution_count": 6,
   "metadata": {},
   "outputs": [],
   "source": [
    "template = Template('''<title>{% block title %}{% endblock %}</title>\n",
    "<ul>\n",
    "{% for user in users %}\n",
    "  <li><a href=\"{{ user.url }}\">{{ user.username }}</a></li>\n",
    "{% endfor %}\n",
    "</ul>''')"
   ]
  },
  {
   "cell_type": "code",
   "execution_count": 7,
   "metadata": {},
   "outputs": [
    {
     "data": {
      "text/plain": [
       "'<title></title>\\n<ul>\\n\\n</ul>'"
      ]
     },
     "execution_count": 7,
     "metadata": {},
     "output_type": "execute_result"
    }
   ],
   "source": [
    "template.render()"
   ]
  },
  {
   "cell_type": "code",
   "execution_count": 8,
   "metadata": {},
   "outputs": [],
   "source": [
    "users = ['ftse', 'brantz']"
   ]
  },
  {
   "cell_type": "code",
   "execution_count": 12,
   "metadata": {},
   "outputs": [
    {
     "data": {
      "text/plain": [
       "'<title></title>\\n<ul>\\n\\n  <li><a href=\"http://ftse\">ftse</a></li>\\n\\n  <li><a href=\"http://brantz\">brantz</a></li>\\n\\n</ul>'"
      ]
     },
     "execution_count": 12,
     "metadata": {},
     "output_type": "execute_result"
    }
   ],
   "source": [
    "User = namedtuple('User', 'url username')\n",
    "users = [User('http://ftse', 'ftse'), User('http://brantz', 'brantz')]\n",
    "\n",
    "template = Template('''<title>{% block title %}{% endblock %}</title>\n",
    "<ul>\n",
    "{% for user in users %}\n",
    "  <li><a href=\"{{ user.url }}\">{{ user.username }}</a></li>\n",
    "{% endfor %}\n",
    "</ul>''')\n",
    "template.render(users = users)"
   ]
  },
  {
   "cell_type": "code",
   "execution_count": null,
   "metadata": {},
   "outputs": [],
   "source": []
  }
 ],
 "metadata": {
  "kernelspec": {
   "display_name": "Python 3",
   "language": "python",
   "name": "python3"
  },
  "language_info": {
   "codemirror_mode": {
    "name": "ipython",
    "version": 3
   },
   "file_extension": ".py",
   "mimetype": "text/x-python",
   "name": "python",
   "nbconvert_exporter": "python",
   "pygments_lexer": "ipython3",
   "version": "3.7.4"
  }
 },
 "nbformat": 4,
 "nbformat_minor": 4
}
